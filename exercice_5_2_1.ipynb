{
 "cells": [
  {
   "cell_type": "markdown",
   "id": "b5384afe",
   "metadata": {
    "editable": false,
    "id": "0b931727",
    "lang": "fr",
    "tags": [
     "problem-title"
    ]
   },
   "source": [
    "# Devoir 2, Question 1 : Estimation de densité"
   ]
  },
  {
   "cell_type": "markdown",
   "id": "08e97056",
   "metadata": {
    "editable": false,
    "id": "f62f4ff9",
    "lang": "en",
    "tags": [
     "problem-title"
    ]
   },
   "source": [
    "# Homework 2, Question 1: Density estimation"
   ]
  },
  {
   "cell_type": "markdown",
   "id": "5e65be31",
   "metadata": {
    "editable": false,
    "id": "83deac97",
    "lang": "fr",
    "tags": [
     "problem-statement"
    ]
   },
   "source": [
    "Soit une densité-mélange combinant deux lois normales en une dimension,\n",
    "\n",
    "$$p(x) = \\sum_i P(\\mathcal{G}_i)\\,p(x|\\mathcal{G}_i) = \\pi_1\\,\\mathcal{N}(\\mu_1,\\sigma_1^2) + \\pi_2\\,\\mathcal{N}(\\mu_2,\\sigma_2^2),$$\n",
    "où $\\pi_1=0,4$, $\\mu_1=0$, $\\sigma_1^2=1$, $\\pi_2=0,6$, $\\mu_2=5$ et $\\sigma_2^2=1$. La tracé suivant illustre cette densité-mélange dans le domaine $[-5,~10]$.\n",
    "![Densité-mélange de deux lois normales](https://pax.ulaval.ca/static/GIF-4101-7005/images/mixture.png)\n",
    "La fonction `pdf` donnée dans le code préambule ici-bas permet d'obtenir la valeur de cette densité pour des valeurs `X` données."
   ]
  },
  {
   "cell_type": "markdown",
   "id": "616d9376",
   "metadata": {
    "editable": false,
    "id": "4a3faec7",
    "lang": "en",
    "tags": [
     "problem-statement"
    ]
   },
   "source": [
    "Let be a mixture model combining two Gaussian laws in one dimension,\n",
    "$$p(x) = \\sum_i P(\\mathcal{G}_i)\\,p(x|\\mathcal{G}_i) = \\pi_1\\,\\mathcal{N}(\\mu_1,\\sigma_1^2) + \\pi_2\\,\\mathcal{N}(\\mu_2,\\sigma_2^2),$$\n",
    "where $\\pi_1=0,4$, $\\mu_1=0$, $\\sigma_1^2=1$, $\\pi_2=0,6$, $\\mu_2=5$ and $\\sigma_2^2=1$. The following plot illustrates this mixture model in the $[-5,~10]$ domain.\n",
    "![Mixture of two Gaussian distributions](https://pax.ulaval.ca/static/GIF-4101-7005/images/mixture.png)\n",
    "The `pdf` function given in the preamble code below allows to obtain the value of this density function for the given `X` values."
   ]
  },
  {
   "cell_type": "markdown",
   "id": "9e1c3fc6",
   "metadata": {
    "editable": false,
    "id": "32b2f78a",
    "lang": "fr",
    "tags": [
     "problem-statement"
    ]
   },
   "source": [
    "## Code préambule"
   ]
  },
  {
   "cell_type": "markdown",
   "id": "67460a5b",
   "metadata": {
    "editable": false,
    "id": "eb20f181",
    "lang": "en",
    "tags": [
     "problem-statement"
    ]
   },
   "source": [
    "## Preamble code"
   ]
  },
  {
   "cell_type": "code",
   "execution_count": 1,
   "id": "8d732251",
   "metadata": {
    "editable": false,
    "id": "35e474b3",
    "tags": [
     "problem-context",
     "autoexec"
    ]
   },
   "outputs": [],
   "source": [
    "import time\n",
    "import numpy\n",
    "\n",
    "import matplotlib\n",
    "%matplotlib notebook\n",
    "matplotlib.rcParams['figure.figsize'] = (15.0, 10.0)\n",
    "from matplotlib import pyplot\n",
    "\n",
    "from sklearn.neighbors import KernelDensity\n",
    "\n",
    "from scipy.stats import norm\n",
    "\n",
    "_times = []\n",
    "def checkTime(maxduration, question):\n",
    "    duration = _times[-1] - _times[-2]\n",
    "    if duration > maxduration:\n",
    "        print(\"[ATTENTION] Votre code pour la question {0} met trop de temps à s'exécuter! \".format(question)+\n",
    "            \"Le temps maximum permis est de {0:.4f} secondes, mais votre code a requis {1:.4f} secondes! \".format(maxduration,duration)+\n",
    "            \"Assurez-vous que vous ne faites pas d'appels bloquants (par exemple à show()) dans cette boucle!\")\n",
    "\n",
    "# Définition de la fonction de densité de probabilité (PDF) de la densité-mélange\n",
    "# Definition of the mixture model probability density function\n",
    "def pdf(X):\n",
    "    return 0.4 * norm(0, 1).pdf(X[:, 0]) + 0.6 * norm(5, 1).pdf(X[:, 0])"
   ]
  },
  {
   "cell_type": "markdown",
   "id": "d6863265",
   "metadata": {
    "editable": false,
    "id": "29cc0feb",
    "lang": "fr",
    "tags": []
   },
   "source": [
    "## Q1A\n",
    "Complétez la fonction `sample(n)` dans la patron de code ici-bas afin d'échantillonner des données de cette densité, où `n` correspond au nombre de données à échantillonner. \n",
    "\n",
    "Présentez également deux figures, montrant respectivement 50 et 10000 données échantillonnées de cette distribution, sous la forme d'histogrammes de 25 *bins* dans le domaine $[-5,\\,10]$. \n",
    "\n",
    "Sur ces figures, affichez également la fonction de densité réelle pour permettre d'en comparer la forme avec celles des distributions d'échantillons obtenues."
   ]
  },
  {
   "cell_type": "markdown",
   "id": "effe029b",
   "metadata": {
    "editable": false,
    "id": "52226f7f",
    "lang": "en",
    "tags": []
   },
   "source": [
    "## Q1A\n",
    "Complete the `sample(n)` function in the code template below, for sampling data of this density, where `n` corresponds to the number of data to be sampled. \n",
    "\n",
    "Present two figures, respectively showing 50 and 10,000 sampled data from this distribution, as histograms of 25 *bins* in the $[-5,\\,10]$ domain.\n",
    "\n",
    "In these figures, also display the actual density function to allow comparison of its shape with those of the obtained sample distributions."
   ]
  },
  {
   "cell_type": "markdown",
   "id": "c7e5e429",
   "metadata": {
    "editable": false,
    "id": "d863410a",
    "lang": "fr",
    "tags": []
   },
   "source": [
    "### Patron de code réponse à l'exercice Q1A"
   ]
  },
  {
   "cell_type": "markdown",
   "id": "36d8b66d",
   "metadata": {
    "editable": false,
    "id": "9c926800",
    "lang": "en",
    "tags": []
   },
   "source": [
    "### Q1A answer code template"
   ]
  },
  {
   "cell_type": "code",
   "execution_count": null,
   "id": "91ec3b72",
   "metadata": {
    "editable": false,
    "id": "a6183899",
    "tags": []
   },
   "outputs": [],
   "source": [
    "# Durée maximale d'exécution pour la question\n",
    "# Maximum execution time for this question\n",
    "TMAX_Q1A = 1.0\n",
    "\n",
    "# *** TODO Q1A ***\n",
    "# Complétez la fonction sample(n), qui génère n\n",
    "# données suivant la distribution mentionnée dans l'énoncé\n",
    "def sample(n):\n",
    "    return\n",
    "# ******\n",
    "\n",
    "_times.append(time.time())\n",
    "\n",
    "# *** TODO Q1A ***\n",
    "# Échantillonnez 50 et 10 000 données avec la fonction\n",
    "# sample(n) que vous avez défini plus haut.\n",
    "# Sample 50 and 10,000 instances with the sample(n) function\n",
    "# that you defined above.\n",
    "# ******\n",
    "\n",
    "# *** TODO Q1A ****\n",
    "# Tracez l'histogramme de cette distribution échantillonnée pour\n",
    "# 50 et 10 000 données, en utilisant 25 compartiments, dans le domaine [-5, 10].\n",
    "# Sur les mêmes graphiques, tracez également la fonction de densité réelle.\n",
    "# Plot the histogram of this sample distribution for 50 and 10,000 samples\n",
    "# using 25 bins over the [-5, 10] domain.\n",
    "# On these plots, provide the real density function value.\n",
    "# ******\n",
    "\n",
    "_times.append(time.time())\n",
    "checkTime(TMAX_Q1A, \"Q1A\")\n",
    "pyplot.show()"
   ]
  },
  {
   "cell_type": "markdown",
   "id": "16b057a0",
   "metadata": {
    "editable": false,
    "id": "89a9a9bc",
    "lang": "fr",
    "tags": []
   },
   "source": [
    "### Entrez votre solution à Q1A dans la cellule ci-dessous"
   ]
  },
  {
   "cell_type": "markdown",
   "id": "c52ed8cb",
   "metadata": {
    "editable": false,
    "id": "b0998f2d",
    "lang": "en",
    "tags": []
   },
   "source": [
    "### Enter your answer to Q1A in the cell below"
   ]
  },
  {
   "cell_type": "markdown",
   "id": "13c8a33b",
   "metadata": {
    "editable": false,
    "tags": [
     "feedback"
    ]
   },
   "source": [
    "<div class=\"feedback-cell\" style=\"background: rgba(100 , 100 , 100 , 0.4)\">\n",
    "            <h3>Votre soumission a été enregistrée!</h3><ul><li>notez qu'il n'y a\n",
    "            <strong>pas</strong> de correction automatique pour cet exercice&puncsp;;</li>\n",
    "            <li>par conséquent, votre note est <strong>actuellement</strong> zéro&puncsp;;</li>\n",
    "            <li>elle sera cependant ajustée par le professeur dès que la correction manuelle\n",
    "            sera complétée&puncsp;;</li><li>vous pouvez soumettre autant de fois que nécessaire\n",
    "            jusqu'à la date d'échéance&puncsp;;</li><li>mais évitez de soumettre inutilement.</li>\n",
    "            </ul></div>"
   ]
  },
  {
   "cell_type": "code",
   "execution_count": null,
   "id": "71405114",
   "metadata": {
    "deletable": false,
    "id": "98d2c69f",
    "tags": [
     "user-answer-D2Q1A",
     "editable"
    ]
   },
   "outputs": [],
   "source": [
    "# Durée maximale d'exécution pour la question\n",
    "# Maximum execution time for this question\n",
    "TMAX_Q1A = 1.0\n",
    "\n",
    "# *** TODO Q1A ***\n",
    "# Complétez la fonction sample(n), qui génère n\n",
    "# données suivant la distribution mentionnée dans l'énoncé\n",
    "def sample(n):\n",
    "    pi1, pi2 = 0.4, 0.6\n",
    "    mu1, sigma1 = 0, 1\n",
    "    mu2, sigma2 = 5, 1\n",
    "    return numpy.concatenate((numpy.random.normal(mu1, sigma1, size=int(pi1 * n)),\n",
    "                    numpy.random.normal(mu2, sigma2, size=int(pi2 * n))))[:,numpy.newaxis]\n",
    "# ******\n",
    "\n",
    "_times.append(time.time())\n",
    "\n",
    "# *** TODO Q1A ***\n",
    "# Échantillonnez 50 et 10 000 données avec la fonction\n",
    "# sample(n) que vous avez défini plus haut.\n",
    "# Sample 50 and 10,000 instances with the sample(n) function\n",
    "# that you defined above.\n",
    "# ******\n",
    "n_sample1 = 50\n",
    "X1 = sample(n_sample1)\n",
    "\n",
    "n_sample2 = 10000\n",
    "X2 = sample(n_sample2)\n",
    "\n",
    "# *** TODO Q1A ****\n",
    "# Tracez l'histogramme de cette distribution échantillonnée pour\n",
    "# 50 et 10 000 données, en utilisant 25 compartiments, dans le domaine [-5, 10].\n",
    "# Sur les mêmes graphiques, tracez également la fonction de densité réelle.\n",
    "# Plot the histogram of this sample distribution for 50 and 10,000 samples\n",
    "# using 25 bins over the [-5, 10] domain.\n",
    "# On these plots, provide the real density function value.\n",
    "# ******\n",
    "\n",
    "borne_min, borne_max = -5, 10\n",
    "compartiments = 25\n",
    "\n",
    "X_plot = numpy.linspace(borne_min, borne_max, 1000)[:,numpy.newaxis]\n",
    "\n",
    "pyplot.figure()\n",
    "\n",
    "pyplot.subplot(2, 1, 1)\n",
    "pyplot.fill(X_plot[:,0], pdf(X_plot), color='red')\n",
    "counts, bins = numpy.histogram(X1, bins=compartiments)\n",
    "pyplot.hist(bins[:-1], bins, weights=counts, alpha= 0.5)\n",
    "pyplot.ylabel(\"1u = 1 échantillon\")\n",
    "\n",
    "pyplot.subplot(2, 1, 2)\n",
    "pyplot.fill(X_plot[:,0], pdf(X_plot), color='red')\n",
    "counts, bins = numpy.histogram(X2, bins=compartiments)\n",
    "pyplot.hist(bins[:-1], bins, weights=(counts/100), alpha= 0.5)\n",
    "pyplot.ylabel(\"1u = 100 échantillons\")\n",
    "\n",
    "_times.append(time.time())\n",
    "checkTime(TMAX_Q1A, \"Q1A\")\n",
    "pyplot.show()"
   ]
  },
  {
   "cell_type": "markdown",
   "id": "21b71f84",
   "metadata": {
    "editable": false,
    "id": "71699213",
    "lang": "fr",
    "tags": []
   },
   "source": [
    "## Q1B\n",
    "Montrez maintenant le résultat d'une estimation avec un noyau *Boxcar* (réf. Estimation naïve d'histogramme dans les documents du cours), également connu sous le nom de noyau *tophat*, à partir des échantillons de données de la densité-mélange de la question précédente (50 et 10\\,000 données), pour les tailles de noyaux (*bandwidth*) de $\\{0,3,\\,1,\\,2,\\,5\\}$.\n",
    "- Présentez vos résultats en deux figures, une pour les résultats sur 50 données et l'autre pour les résultats sur 10\\,000 données;\n",
    "- Utilisez une couleur de courbe différente pour chaque taille de noyau;\n",
    "- Ajoutez une légende à vos figures."
   ]
  },
  {
   "cell_type": "markdown",
   "id": "76680649",
   "metadata": {
    "editable": false,
    "id": "57567dbf",
    "lang": "en",
    "tags": []
   },
   "source": [
    "## Q1B\n",
    "Now show the result of an estimation with a *Boxcar* kernel (ref. Naive Histogram Estimation in the course materials), also known as a *tophat* kernel, from the mixture data samples of the previous question (50 and 10\\,000 instances), for kernel sizes (*bandwidth*) of $\\{0.3,\\,1,\\,2,\\,5\\}$.\n",
    "- Present your results in two plots, one for the results on 50 instances and the other for the results on 10\\,000 instances;\n",
    "- Use a different line colour for each kernel size;\n",
    "- Add a legend to your figures."
   ]
  },
  {
   "cell_type": "markdown",
   "id": "9a519729",
   "metadata": {
    "editable": false,
    "id": "cd5b2e89",
    "lang": "fr",
    "tags": []
   },
   "source": [
    "### Patron de code réponse à l'exercice Q1B"
   ]
  },
  {
   "cell_type": "markdown",
   "id": "1fd948b4",
   "metadata": {
    "editable": false,
    "id": "86453e9a",
    "lang": "en",
    "tags": []
   },
   "source": [
    "### Q1B answer code template"
   ]
  },
  {
   "cell_type": "code",
   "execution_count": null,
   "id": "08881f61",
   "metadata": {
    "editable": false,
    "id": "9db33542",
    "tags": []
   },
   "outputs": [],
   "source": [
    "TMAX_Q1B = 2.5\n",
    "_times.append(time.time())\n",
    "\n",
    "# ** TODO Q1B ***\n",
    "# À partir des échantillons 50 et 10 000 données de la question précédente\n",
    "# faites une estimation de la distribution des données avec un noyau boxcar.\n",
    "# Pour chaque taille de jeu (50 et 10 000), présentez les distributions\n",
    "# estimées avec des tailles de noyau (bandwidth) de {0.3, 1, 2, 5}, dans\n",
    "# la même figure, mais tracées avec des couleurs différentes.\n",
    "# From the 50 and 10,000 data samples in the previous question\n",
    "# make an estimate of the distribution of the data with a boxcar kernel.\n",
    "# For each set size (50 and 10,000), present the distributions\n",
    "# estimated with kernel sizes (bandwidth) of {0.3, 1, 2, 5}, in\n",
    "# the same figure, but plotted with different colours.\n",
    "# ******\n",
    "\n",
    "# Affichage du graphique\n",
    "_times.append(time.time())\n",
    "checkTime(TMAX_Q1B, \"Q1B\")\n",
    "pyplot.show()"
   ]
  },
  {
   "cell_type": "markdown",
   "id": "fa013343",
   "metadata": {
    "editable": false,
    "id": "26d6525f",
    "lang": "fr",
    "tags": []
   },
   "source": [
    "### Entrez votre solution à Q1B dans la cellule ci-dessous"
   ]
  },
  {
   "cell_type": "markdown",
   "id": "e8346ba3",
   "metadata": {
    "editable": false,
    "id": "8b1a3d18",
    "lang": "en",
    "tags": []
   },
   "source": [
    "### Enter your answer to Q1B in the cell below"
   ]
  },
  {
   "cell_type": "code",
   "execution_count": null,
   "id": "921d0b9c",
   "metadata": {
    "deletable": false,
    "id": "0bf07b93",
    "tags": [
     "user-answer-D2Q1B",
     "editable"
    ]
   },
   "outputs": [],
   "source": [
    "TMAX_Q1B = 2.5\n",
    "_times.append(time.time())\n",
    "\n",
    "# ** TODO Q1B ***\n",
    "# À partir des échantillons 50 et 10 000 données de la question précédente\n",
    "# faites une estimation de la distribution des données avec un noyau boxcar.\n",
    "# Pour chaque taille de jeu (50 et 10 000), présentez les distributions\n",
    "# estimées avec des tailles de noyau (bandwidth) de {0.3, 1, 2, 5}, dans\n",
    "# la même figure, mais tracées avec des couleurs différentes.\n",
    "# From the 50 and 10,000 data samples in the previous question\n",
    "# make an estimate of the distribution of the data with a boxcar kernel.\n",
    "# For each set size (50 and 10,000), present the distributions\n",
    "# estimated with kernel sizes (bandwidth) of {0.3, 1, 2, 5}, in\n",
    "# the same figure, but plotted with different colours.\n",
    "# ******\n",
    "\n",
    "X_plot = numpy.linspace(borne_min, borne_max, 1000)[:,numpy.newaxis]\n",
    "\n",
    "def estimate_boxcar_density(sample, bandwidth):\n",
    "    boxcar = KernelDensity(kernel='tophat', bandwidth=bandwidth).fit(sample)\n",
    "    density = numpy.exp(boxcar.score_samples(X_plot))\n",
    "    return density\n",
    "    \n",
    "pyplot.figure()\n",
    "\n",
    "pyplot.subplot(2, 1, 1)\n",
    "pyplot.plot(X_plot[:,0], estimate_boxcar_density(X1, 0.3), label=\"bandwith=0.3\", c=\"blue\")\n",
    "pyplot.plot(X_plot[:,0], estimate_boxcar_density(X1, 1), label=\"bandwith=1\", c=\"red\")\n",
    "pyplot.plot(X_plot[:,0], estimate_boxcar_density(X1, 2), label=\"bandwith=2\", c=\"green\")\n",
    "pyplot.plot(X_plot[:,0], estimate_boxcar_density(X1, 5), label=\"bandwith=5\", c=\"black\")\n",
    "pyplot.ylabel(\"Densité de probabilité\")\n",
    "pyplot.legend(loc='upper left')\n",
    "\n",
    "pyplot.subplot(2, 1, 2)\n",
    "pyplot.plot(X_plot[:,0], estimate_boxcar_density(X2, 0.3), label=\"bandwith=0.3\", c=\"blue\")\n",
    "pyplot.plot(X_plot[:,0], estimate_boxcar_density(X2, 1), label=\"bandwith=1\", c=\"red\")\n",
    "pyplot.plot(X_plot[:,0], estimate_boxcar_density(X2, 2), label=\"bandwith=2\", c=\"green\")\n",
    "pyplot.plot(X_plot[:,0], estimate_boxcar_density(X2, 5), label=\"bandwith=5\", c=\"black\")\n",
    "pyplot.ylabel(\"Densité de probabilité\")\n",
    "pyplot.legend(loc='upper left')\n",
    "\n",
    "# Affichage du graphique\n",
    "_times.append(time.time())\n",
    "checkTime(TMAX_Q1B, \"Q1B\")\n",
    "pyplot.show()"
   ]
  },
  {
   "cell_type": "markdown",
   "id": "639f7079",
   "metadata": {
    "editable": false,
    "id": "3a8c12df",
    "lang": "fr",
    "tags": [
     "problem-statement"
    ]
   },
   "source": [
    "## Q1C\n",
    "Expliquez les principales **différences** et **similarités** entre une estimation de densité par noyau et une approche d'estimation de densité basée sur les $k$-plus proches voisins ($k$-PPV).\n",
    "\n",
    "Aussi, quel lien peut-on faire entre eux?"
   ]
  },
  {
   "cell_type": "markdown",
   "id": "f5897c41",
   "metadata": {
    "editable": false,
    "id": "a3ff7b25",
    "lang": "en",
    "tags": [
     "problem-statement"
    ]
   },
   "source": [
    "## Q1C\n",
    "Explain the main **differences** and **similarities** between a kernel-based density estimation and a $k$-nearest neighbours ($k$-NN) based density estimation approach.\n",
    "\n",
    "Also, what connection can be made between them?"
   ]
  },
  {
   "cell_type": "markdown",
   "id": "68ab798b",
   "metadata": {
    "editable": false,
    "id": "28091b1a",
    "lang": "fr",
    "tags": []
   },
   "source": [
    "### Entrez votre solution à Q1C dans la cellule ci-dessous (markdown et $\\LaTeX$)"
   ]
  },
  {
   "cell_type": "markdown",
   "id": "1f9f1996",
   "metadata": {
    "editable": false,
    "id": "77cb8214",
    "lang": "en",
    "tags": []
   },
   "source": [
    "### Enter your answer to Q1C in the cell below (markdown and $\\LaTeX$)"
   ]
  },
  {
   "cell_type": "markdown",
   "id": "9cf7da42",
   "metadata": {
    "deletable": false,
    "id": "cc8a50dd",
    "tags": [
     "user-answer-D2Q1C",
     "editable"
    ]
   },
   "source": [
    "### Similarités:\n",
    "- Méthodes non paramétriques;\n",
    "- estimation plus douce que la méthode d'estimation par histogramme.\n",
    "\n",
    "### Différences:\n",
    "- k-ppv adapte la largeur de la fenêtre selon la densité locale contrairement à l'estimation de densité par noyau où la largeur de la fenêtre est constante;\n",
    "- les k-ppv sont définis par 03 paramètres principaux tandis que l'estimation de densité par noyau n'en a que 02;\n",
    "- k-ppv utilise la notion de distance D(x,y) dont le type peut varier selon le problème qu'on veut résoudre."
   ]
  },
  {
   "cell_type": "markdown",
   "id": "843722c8",
   "metadata": {
    "editable": false,
    "id": "7e6ea07c",
    "lang": "fr",
    "tags": [
     "problem-statement"
    ]
   },
   "source": [
    "## Q1D\n",
    "Pourquoi les $k$-PPV sont-ils intéressants pour le classement et la régression, mais peu adaptés à l'estimation de densité?\n",
    "\n",
    "Expliquez en donnant un avantage des $k$-PPV et un inconvénient."
   ]
  },
  {
   "cell_type": "markdown",
   "id": "78c490c6",
   "metadata": {
    "editable": false,
    "id": "04df2c51",
    "lang": "en",
    "tags": [
     "problem-statement"
    ]
   },
   "source": [
    "## Q1D\n",
    "Why are $k$-NN attractive for classification and regression, but unsuitable for density estimation?\n",
    "\n",
    "Explain by giving one advantage of $k$-NN and one disadvantage."
   ]
  },
  {
   "cell_type": "markdown",
   "id": "3db48549",
   "metadata": {
    "editable": false,
    "id": "5502cc92",
    "lang": "fr",
    "tags": []
   },
   "source": [
    "### Entrez votre solution à Q1D dans la cellule ci-dessous (markdown et $\\LaTeX$)"
   ]
  },
  {
   "cell_type": "markdown",
   "id": "6aa41298",
   "metadata": {
    "editable": false,
    "id": "b0380bd1",
    "lang": "en",
    "tags": []
   },
   "source": [
    "### Enter your answer to Q1D in the cell below (markdown and $\\LaTeX$)"
   ]
  },
  {
   "cell_type": "markdown",
   "id": "39d73ca6",
   "metadata": {
    "deletable": false,
    "id": "66fb4eaf",
    "tags": [
     "user-answer-D2Q1D",
     "editable"
    ]
   },
   "source": [
    "### Avantage:\n",
    "Simple à comprendre et facile à implémenter -> Permet de déterminer de manière intuitif la classe k en choisissant la classe majoritaire parmi ses plus proches voisins; et pour la régression on fait la moyenne.\n",
    "\n",
    "### Inconvénient:\n",
    "Sensible aux attributs non pertinents -> Peut changer la densité selon la configuration de l'espace"
   ]
  }
 ],
 "metadata": {
  "PAX": {
   "userLang": "fr"
  },
  "celltoolbar": "",
  "jupytext": {
   "notebook_metadata_filter": "celltoolbar",
   "text_representation": {
    "extension": ".md",
    "format_name": "markdown",
    "format_version": "1.3",
    "jupytext_version": "1.11.4"
   }
  },
  "kernelspec": {
   "display_name": "Python 3 (PAX)",
   "language": "python",
   "name": "python3"
  },
  "language_info": {
   "codemirror_mode": {
    "name": "ipython",
    "version": 3
   },
   "file_extension": ".py",
   "mimetype": "text/x-python",
   "name": "python",
   "nbconvert_exporter": "python",
   "pygments_lexer": "ipython3",
   "version": "3.8.10"
  },
  "nbTranslate": {
   "displayLangs": [
    "*"
   ],
   "hotkey": "alt-t",
   "langInMainMenu": true,
   "sourceLang": "en",
   "targetLang": "fr",
   "useGoogleTranslate": true
  }
 },
 "nbformat": 4,
 "nbformat_minor": 5
}
