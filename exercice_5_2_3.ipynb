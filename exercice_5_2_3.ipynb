{
 "cells": [
  {
   "cell_type": "markdown",
   "id": "5a11ad06",
   "metadata": {
    "editable": false,
    "id": "3caf49d4",
    "lang": "fr",
    "tags": [
     "problem-title"
    ]
   },
   "source": [
    "# Devoir 2, Question 3 : k-plus proches voisins"
   ]
  },
  {
   "cell_type": "markdown",
   "id": "b6b9a394",
   "metadata": {
    "editable": false,
    "id": "cf385aac",
    "lang": "en",
    "tags": [
     "problem-title"
    ]
   },
   "source": [
    "# Homework 2, Question 3: k-nearest neighbours"
   ]
  },
  {
   "cell_type": "markdown",
   "id": "1f6720bc",
   "metadata": {
    "editable": false,
    "id": "81f51543",
    "lang": "fr",
    "tags": [
     "problem-statement"
    ]
   },
   "source": [
    "## Code préambule"
   ]
  },
  {
   "cell_type": "markdown",
   "id": "2c1e7948",
   "metadata": {
    "editable": false,
    "id": "b85e3050",
    "lang": "en",
    "tags": [
     "problem-statement"
    ]
   },
   "source": [
    "## Preamble code"
   ]
  },
  {
   "cell_type": "code",
   "execution_count": 1,
   "id": "28c6e870",
   "metadata": {
    "editable": false,
    "id": "fd28bab6",
    "tags": [
     "problem-context",
     "autoexec"
    ]
   },
   "outputs": [],
   "source": [
    "import time\n",
    "import numpy\n",
    "import pandas\n",
    "pandas.set_option('display.max_colwidth', 0)\n",
    "import collections\n",
    "\n",
    "from IPython import display\n",
    "\n",
    "import matplotlib\n",
    "%matplotlib notebook\n",
    "matplotlib.rcParams['figure.figsize'] = (15.0, 10.0)\n",
    "from matplotlib import pyplot\n",
    "\n",
    "from sklearn.datasets import load_iris\n",
    "from sklearn.datasets import load_breast_cancer\n",
    "from sklearn.preprocessing import minmax_scale\n",
    "from sklearn.model_selection import LeaveOneOut\n",
    "from sklearn.neighbors import KNeighborsClassifier\n",
    "\n",
    "_times = []\n",
    "def checkTime(maxduration, question):\n",
    "    duration = _times[-1] - _times[-2]\n",
    "    if duration > maxduration:\n",
    "        print(\"[ATTENTION] Votre code pour la question {0} met trop de temps à s'exécuter! \".format(question)+\n",
    "            \"Le temps maximum permis est de {0:.4f} secondes, mais votre code a requis {1:.4f} secondes! \".format(maxduration,duration)+\n",
    "            \"Assurez-vous que vous ne faites pas d'appels bloquants (par exemple à show()) dans cette boucle!\")\n"
   ]
  },
  {
   "cell_type": "markdown",
   "id": "fbe806db",
   "metadata": {
    "editable": false,
    "id": "653c41dc",
    "lang": "fr",
    "tags": []
   },
   "source": [
    "## Q3A\n",
    "Utilisez une méthode de $k$-plus proches voisins sur le jeu de données des Iris de Fisher en normalisant les données. Pour le classifieur, vous pouvez utiliser directement l'implémentation de *scikit-learn* (`KNeighborsClassifier`). Utilisez les paramètres par défaut, sauf pour:\n",
    "- Pondération (paramètre `weights`): Testez avec les valeurs `uniform` et `distance`;\n",
    "- Nombre de voisins $k$ (paramètre `n_neighbors`): Pour les deux différentes pondérations, testez avec les valeurs {1, 3, 5, 7, 11, 13, 15, 25, 35, 45}.\n",
    "\n",
    "Pour l'évaluation, utilisez une méthode de type *leave-one-out*. Rapportez la performance de chaque paramétrisation dans une figure synthèse.\n",
    "\n",
    "Discutez **<u>brièvement</u>** des résultats. Quel est l'impact de la disposition des données dans l'espace pour cette méthode? Quel est le nombre de voisins $k$ optimal à utiliser?"
   ]
  },
  {
   "cell_type": "markdown",
   "id": "ee96f758",
   "metadata": {
    "editable": false,
    "id": "4786a4ae",
    "lang": "en",
    "tags": []
   },
   "source": [
    "## Q3A\n",
    "Use a $k$-nearest neighbour method on the Fisher's Iris dataset by normalizing the data. For the classifier, you can use the *scikit-learn* implementation (`KNeighborsClassifier`) directly. Use the default settings, except for:\n",
    "- Weighting (`weights` parameter): Test with `uniform` and `distance` values;\n",
    "- Number of neighbours $k$ (parameter `n_neighbors`): For the two different weights, test with the values {1, 3, 5, 7, 11, 13, 15, 25, 35, 45}.\n",
    "\n",
    "For evaluation, use a *leave-one-out* method. Report the performance of each parameterization in a summary figure.\n",
    "\n",
    "Discuss **<u>briefly</u>** the results. What is the impact of data spatial arrangement for this method? What is the optimal number of $k$ neighbours to use?"
   ]
  },
  {
   "cell_type": "markdown",
   "id": "3c774149",
   "metadata": {
    "editable": false,
    "id": "96c3227e",
    "lang": "fr",
    "tags": []
   },
   "source": [
    "### Patron de code réponse à l'exercice Q3A"
   ]
  },
  {
   "cell_type": "markdown",
   "id": "2e8ea1ef",
   "metadata": {
    "editable": false,
    "id": "869822a9",
    "lang": "en",
    "tags": []
   },
   "source": [
    "### Q3A answer code template"
   ]
  },
  {
   "cell_type": "code",
   "execution_count": null,
   "id": "bd48521e",
   "metadata": {
    "editable": false,
    "id": "50d02bff",
    "tags": []
   },
   "outputs": [],
   "source": [
    "# Définition de la durée d'exécution maximales pour la question\n",
    "TMAX_Q3A = 15\n",
    "\n",
    "# Dictionnaire pour enregistrer les paramètres évalués\n",
    "results = collections.defaultdict(list)\n",
    "results['Questions'] = [\"Quel est l\\'impact de la disposition des données dans l'espace?\",\n",
    "                        \"Quel est le K optimal?\",\n",
    "                       ]\n",
    "results['Discussion'] = []\n",
    "\n",
    "_times.append(time.time())\n",
    "\n",
    "# *** TODO Q3A ***\n",
    "# Testez un classifeur K plus proches voisins sur le jeu de donnée\n",
    "# L'évaluation doit être faite en utilisant une approche leave-one-out\n",
    "# Testez avec k = {1, 3, 5, 7, 11, 13, 15, 25, 35, 45} et avec les valeurs\n",
    "# \"uniform\" et \"distance\" comme valeur de l'argument \"weights\".\n",
    "# N'oubliez pas de normaliser le jeu de données en utilisant minmax_scale!\n",
    "# Test a k-nearest neighbours classifier on the dataset\n",
    "# The evaluation should be done using a leave-one-out approach\n",
    "# Test with k = {1, 3, 5, 7, 11, 13, 15, 25, 35, 45} and with the values\n",
    "# \"uniform\" and \"distance\" as the value of the \"weights\" argument.\n",
    "# Don't forget to normalize the dataset using minmax_scale!\n",
    "\n",
    "# Stockez les performances obtenues (précision moyenne pour chaque valeur de k)\n",
    "# dans deux listes, scoresUniformWeights pour weights=uniform et \n",
    "# scoresDistanceWeights pour weights=distance\n",
    "# Le premier élément de chacune de ces listes devrait contenir la précision\n",
    "# pour k=1, le second la précision pour k=3, et ainsi de suite.\n",
    "# Store the obtained performances (average precision for each value of k)\n",
    "# in two lists, scoresUniformWeights for weights=uniform and \n",
    "# scoresDistanceWeights for weights=distance\n",
    "# The first element of each of these lists should contain the precision\n",
    "# for k=1, the second the precision for k=3, and so on.\n",
    "scoresUniformWeights = []\n",
    "scoresDistanceWeights = []\n",
    "# ******\n",
    "\n",
    "_times.append(time.time())\n",
    "checkTime(TMAX_Q3A, \"Q3A\")\n",
    "\n",
    "# *** TODO Q3A ***\n",
    "# Produisez un graphique contenant deux courbes, l'une pour weights=uniform\n",
    "# et l'autre pour weights=distance. L'axe x de la figure doit être le nombre\n",
    "# de voisins et l'axe y la performance en leave-one-out\n",
    "# Produce a graph containing two curves, one for weights=uniform\n",
    "# and the other for weights=distance. The x axis of the figure should be the number\n",
    "# of neighbours and the y-axis the leave-one-out performance\n",
    "\n",
    "fig = pyplot.figure()\n",
    "ax = fig.add_subplot(111)\n",
    "\n",
    "ax.set_title('Title')  # À modifier / to be modified\n",
    "# ax.plot(X, y, 'r--', label=\"Distance weights\") # À compléter / to be completed\n",
    "# ax.plot(X, y, 'b--', label=\"Uniform weights\")  # À compléter / to be completed\n",
    "# ax.set_xticks(X, X)\n",
    "ax.grid(axis='x')\n",
    "ax.set_xlabel(\"Values of K\")\n",
    "ax.set_ylabel(\"Accuracy (%)\")\n",
    "\n",
    "# ******\n",
    "\n",
    "# *** TODO Q3A ***\n",
    "\n",
    "# Répondez aux quelques questions pour la discussion \n",
    "# Answer a few questions for discussion \n",
    "\n",
    "# Quel est l'impact de la disposition des données dans l'espace?\n",
    "# What is the impact of the layout of the data in the space?\n",
    "answer = \"Impact de la disposition \\\n",
    "          des données dans l'espace: \"\n",
    "results['Discussion'].append(answer)\n",
    "\n",
    "# Quel est le nombre de voisins $k$ optimal à utiliser?\n",
    "# What is the optimal number of $k$ neighbors to use?\n",
    "answer = \"Valeur de k optimale?: \\\n",
    "          \"\n",
    "results['Discussion'].append(answer)\n",
    "# ******\n",
    "\n",
    "# Affichage des erreurs\n",
    "df = pandas.DataFrame(results)\n",
    "display.display(df)"
   ]
  },
  {
   "cell_type": "markdown",
   "id": "0723d41c",
   "metadata": {
    "editable": false,
    "id": "f62ac1ae",
    "lang": "fr",
    "tags": []
   },
   "source": [
    "### Entrez votre solution à Q3A dans la cellule ci-dessous"
   ]
  },
  {
   "cell_type": "markdown",
   "id": "c748daa0",
   "metadata": {
    "editable": false,
    "id": "588ab902",
    "lang": "en",
    "tags": []
   },
   "source": [
    "### Enter your answer to Q3A in the cell below"
   ]
  },
  {
   "cell_type": "markdown",
   "id": "c43820d8",
   "metadata": {
    "editable": false,
    "tags": [
     "feedback"
    ]
   },
   "source": [
    "<div class=\"feedback-cell\" style=\"background: rgba(100 , 100 , 100 , 0.4)\">\n",
    "            <h3>Votre soumission a été enregistrée!</h3><ul><li>notez qu'il n'y a\n",
    "            <strong>pas</strong> de correction automatique pour cet exercice&puncsp;;</li>\n",
    "            <li>par conséquent, votre note est <strong>actuellement</strong> zéro&puncsp;;</li>\n",
    "            <li>elle sera cependant ajustée par le professeur dès que la correction manuelle\n",
    "            sera complétée&puncsp;;</li><li>vous pouvez soumettre autant de fois que nécessaire\n",
    "            jusqu'à la date d'échéance&puncsp;;</li><li>mais évitez de soumettre inutilement.</li>\n",
    "            </ul></div>"
   ]
  },
  {
   "cell_type": "code",
   "execution_count": null,
   "id": "05ccc24b",
   "metadata": {
    "deletable": false,
    "id": "80c09c06",
    "tags": [
     "user-answer-D2Q3A",
     "editable"
    ]
   },
   "outputs": [],
   "source": [
    "# Définition de la durée d'exécution maxima{1, 3, 5, 7, 11, 13, 15, 25, 35, 45}les pour la question\n",
    "TMAX_Q3A = 15\n",
    "\n",
    "# Dictionnaire pour enregistrer les paramètres évalués\n",
    "results = collections.defaultdict(list)\n",
    "results['Questions'] = [\"Quel est l\\'impact de la disposition des données dans l'espace?\",\n",
    "                        \"Quel est le K optimal?\",\n",
    "                       ]\n",
    "results['Discussion'] = []\n",
    "\n",
    "_times.append(time.time())\n",
    "\n",
    "# *** TODO Q3A ***\n",
    "# Testez un classifeur K plus proches voisins sur le jeu de donnée\n",
    "# L'évaluation doit être faite en utilisant une approche leave-one-out\n",
    "# Testez avec k = {1, 3, 5, 7, 11, 13, 15, 25, 35, 45} et avec les valeurs\n",
    "# \"uniform\" et \"distance\" comme valeur de l'argument \"weights\".\n",
    "# N'oubliez pas de normaliser le jeu de données en utilisant minmax_scale!\n",
    "# Test a k-nearest neighbours classifier on the dataset\n",
    "# The evaluation should be done using a leave-one-out approach\n",
    "# Test with k = {1, 3, 5, 7, 11, 13, 15, 25, 35, 45} and with the values\n",
    "# \"uniform\" and \"distance\" as the value of the \"weights\" argument.\n",
    "# Don't forget to normalize the dataset using minmax_scale!\n",
    "iris_data = load_iris()\n",
    "X, y = iris_data.data, iris_data.target\n",
    "X = minmax_scale(X)\n",
    "\n",
    "my_weights = ['uniform', 'distance']\n",
    "my_neighbors = [1, 3, 5, 7, 11, 13, 15, 25, 35, 45]\n",
    "\n",
    "d_scores = {}\n",
    "for w in my_weights:\n",
    "    w_scores = []\n",
    "    for n in my_neighbors:\n",
    "        clf = KNeighborsClassifier(n_neighbors=n, weights=w)\n",
    "        loo = LeaveOneOut()\n",
    "        scores = numpy.zeros(loo.get_n_splits(X))\n",
    "        count = 0\n",
    "        for train_index, test_index in loo.split(X):\n",
    "            X_train, X_test = X[train_index], X[test_index]\n",
    "            y_train, y_test = y[train_index], y[test_index]\n",
    "            clf.fit(X_train, y_train)\n",
    "            scores[count] = 1 - clf.score(X_test, y_test)\n",
    "            count = count + 1 \n",
    "        w_scores.append(numpy.mean(scores))\n",
    "    d_scores[w] = w_scores\n",
    "        \n",
    "# Stockez les performances obtenues (précision moyenne pour chaque valeur de k)\n",
    "# dans deux listes, scoresUniformWeights pour weights=uniform et \n",
    "# scoresDistanceWeights pour weights=distance\n",
    "# Le premier élément de chacune de ces listes devrait contenir la précision\n",
    "# pour k=1, le second la précision pour k=3, et ainsi de suite.\n",
    "# Store the obtained performances (average precision for each value of k)\n",
    "# in two lists, scoresUniformWeights for weights=uniform and \n",
    "# scoresDistanceWeights for weights=distance\n",
    "# The first element of each of these lists should contain the precision\n",
    "# for k=1, the second the precision for k=3, and so on.\n",
    "scoresUniformWeights = d_scores[\"uniform\"]\n",
    "scoresDistanceWeights = d_scores[\"distance\"]\n",
    "# ******\n",
    "\n",
    "_times.append(time.time())\n",
    "checkTime(TMAX_Q3A, \"Q3A\")\n",
    "\n",
    "# *** TODO Q3A ***\n",
    "# Produisez un graphique contenant deux courbes, l'une pour weights=uniform\n",
    "# et l'autre pour weights=distance. L'axe x de la figure doit être le nombre\n",
    "# de voisins et l'axe y la performance en leave-one-out\n",
    "# Produce a graph containing two curves, one for weights=uniform\n",
    "# and the other for weights=distance. The x axis of the figure should be the number\n",
    "# of neighbours and the y-axis the leave-one-out performance\n",
    "\n",
    "fig = pyplot.figure()\n",
    "ax = fig.add_subplot(111)\n",
    "\n",
    "ax.set_title('Comparaison between Distance and Uniform weights')  # À modifier / to be modified\n",
    "ax.plot(my_neighbors, scoresDistanceWeights, 'r--', label=\"Distance weights\") # À compléter / to be completed\n",
    "ax.plot(my_neighbors, scoresUniformWeights, 'b--', label=\"Uniform weights\")  # À compléter / to be completed\n",
    "ax.set_xticks(my_neighbors)\n",
    "ax.grid(axis='x')\n",
    "ax.set_xlabel(\"Values of K\")\n",
    "ax.set_ylabel(\"Accuracy (%)\")\n",
    "ax.legend(loc='upper left')\n",
    "\n",
    "# ******\n",
    "\n",
    "# *** TODO Q3A ***\n",
    "\n",
    "# Répondez aux quelques questions pour la discussion \n",
    "# Answer a few questions for discussion \n",
    "\n",
    "# Quel est l'impact de la disposition des données dans l'espace?\n",
    "# What is the impact of the layout of the data in the space?\n",
    "answer = \"La disposition des données dans l'espace impacte la valeur du minimum de l'erreur\"\n",
    "results['Discussion'].append(answer)\n",
    "\n",
    "# Quel est le nombre de voisins $k$ optimal à utiliser?\n",
    "# What is the optimal number of $k$ neighbors to use?\n",
    "answer = \"La valeur de k optimale est 7\"\n",
    "results['Discussion'].append(answer)\n",
    "# ******\n",
    "\n",
    "# Affichage des erreurs\n",
    "df = pandas.DataFrame(results)\n",
    "display.display(df)"
   ]
  },
  {
   "cell_type": "markdown",
   "id": "c662ea2b",
   "metadata": {
    "editable": false,
    "id": "61586789",
    "lang": "fr",
    "tags": []
   },
   "source": [
    "## Q3B\n",
    "Utilisez une méthode de $k$-plus proches voisins sur le jeu de données *Breast Cancer Wisconsin* en normalisant les données. Pour le classifieur, vous pouvez utiliser directement l'implémentation de *scikit-learn* (`KNeighborsClassifier`). Utilisez les paramètres par défaut, sauf pour:\n",
    "- Pondération (paramètre `weights`): Testez avec les valeurs `uniform` et `distance`;\n",
    "- Nombre de voisins $k$ (paramètre `n_neighbors`): Pour les deux différentes pondérations, testez avec les valeurs {1, 3, 5, 7, 11, 13, 15, 25, 35, 45}.\n",
    "\n",
    "Pour l'évaluation, utilisez une méthode de type *leave-one-out*. Rapportez la performance de chaque paramétrisation dans une figure synthèse.\n",
    "\n",
    "Discutez **<u>brièvement</u>** des résultats. Quel est l'impact de la disposition des données dans l'espace pour cette méthode? Quel est le nombre de voisins $k$ optimal à utiliser?"
   ]
  },
  {
   "cell_type": "markdown",
   "id": "e3d8bc69",
   "metadata": {
    "editable": false,
    "id": "dc37d432",
    "lang": "en",
    "tags": []
   },
   "source": [
    "## Q3B\n",
    "Use a $k$-nearest neighbour method on the *Breast Cancer Wisconsin* dataset by normalizing the data. For the classifier, you can use the *scikit-learn* implementation (`KNeighborsClassifier`) directly. Use the default settings, except for:\n",
    "- Weighting (`weights` parameter): Test with `uniform` and `distance` values;\n",
    "- Number of neighbours $k$ (parameter `n_neighbors`): For the two different weights, test with the values {1, 3, 5, 7, 11, 13, 15, 25, 35, 45}.\n",
    "\n",
    "For evaluation, use a *leave-one-out* method. Report the performance of each parameterization in a summary figure.\n",
    "\n",
    "Discuss **<u>briefly</u>** the results. What is the impact of data spatial arrangement for this method? What is the optimal number of $k$ neighbours to use?"
   ]
  },
  {
   "cell_type": "markdown",
   "id": "1a9149ed",
   "metadata": {
    "editable": false,
    "id": "f8c1139a",
    "lang": "fr",
    "tags": []
   },
   "source": [
    "### Patron de code réponse à l'exercice Q3B"
   ]
  },
  {
   "cell_type": "markdown",
   "id": "ba4cf753",
   "metadata": {
    "editable": false,
    "id": "bd859294",
    "lang": "en",
    "tags": []
   },
   "source": [
    "### Q3B answer code template"
   ]
  },
  {
   "cell_type": "code",
   "execution_count": null,
   "id": "03632e12",
   "metadata": {
    "editable": false,
    "id": "1afacd64",
    "tags": []
   },
   "outputs": [],
   "source": [
    "# Définition de la durée d'exécution maximales pour la question\n",
    "TMAX_Q3B = 260\n",
    "\n",
    "# Dictionnaire pour enregistrer les paramètres évalués\n",
    "results = collections.defaultdict(list)\n",
    "results['Questions'] = [\"Quel est l\\'impact de la disposition des données dans l'espace?\",\n",
    "                        \"Quel est le K optimal?\",\n",
    "                       ]\n",
    "results['Discussion'] = []\n",
    "\n",
    "_times.append(time.time())\n",
    "\n",
    "# *** TODO Q3B ***\n",
    "# Testez un classifeur K plus proches voisins sur le jeu de donnée\n",
    "# L'évaluation doit être faite en utilisant une approche leave-one-out\n",
    "# Testez avec k = {1, 3, 5, 7, 11, 13, 15, 25, 35, 45} et avec les valeurs\n",
    "# \"uniform\" et \"distance\" comme valeur de l'argument \"weights\".\n",
    "# N'oubliez pas de normaliser le jeu de données en utilisant minmax_scale!\n",
    "# Test a k-nearest neighbours classifier on the dataset\n",
    "# The evaluation should be done using a leave-one-out approach\n",
    "# Test with k = {1, 3, 5, 7, 11, 13, 15, 25, 35, 45} and with the values\n",
    "# \"uniform\" and \"distance\" as the value of the \"weights\" argument.\n",
    "# Don't forget to normalize the dataset using minmax_scale!\n",
    "\n",
    "# Stockez les performances obtenues (précision moyenne pour chaque valeur de k)\n",
    "# dans deux listes, scoresUniformWeights pour weights=uniform et \n",
    "# scoresDistanceWeights pour weights=distance\n",
    "# Le premier élément de chacune de ces listes devrait contenir la précision\n",
    "# pour k=1, le second la précision pour k=3, et ainsi de suite.\n",
    "# Store the obtained performances (average precision for each value of k)\n",
    "# in two lists, scoresUniformWeights for weights=uniform and \n",
    "# scoresDistanceWeights for weights=distance\n",
    "# The first element of each of these lists should contain the precision\n",
    "# for k=1, the second the precision for k=3, and so on.\n",
    "scoresUniformWeights = []\n",
    "scoresDistanceWeights = []\n",
    "# ******\n",
    "\n",
    "_times.append(time.time())\n",
    "checkTime(TMAX_Q3B, \"Q3B\")\n",
    "\n",
    "# *** TODO Q3B ***\n",
    "# Produisez un graphique contenant deux courbes, l'une pour weights=uniform\n",
    "# et l'autre pour weights=distance. L'axe x de la figure doit être le nombre\n",
    "# de voisins et l'axe y la performance en leave-one-out\n",
    "# Produce a graph containing two curves, one for weights=uniform\n",
    "# and the other for weights=distance. The x axis of the figure should be the number\n",
    "# of neighbours and the y-axis the leave-one-out performance\n",
    "\n",
    "fig = pyplot.figure()\n",
    "ax = fig.add_subplot(111)\n",
    "\n",
    "ax.set_title('Title')  # À modifier / to be modified\n",
    "# ax.plot(X, y, 'r--', label=\"Distance weights\") # À compléter / to be completed\n",
    "# ax.plot(X, y, 'b--', label=\"Uniform weights\")  # À compléter / to be completed\n",
    "# ax.set_xticks(X, X)\n",
    "ax.grid(axis='x')\n",
    "ax.set_xlabel(\"Values of K\")\n",
    "ax.set_ylabel(\"Accuracy (%)\")\n",
    "\n",
    "# ******\n",
    "\n",
    "# *** TODO Q3B ***\n",
    "\n",
    "# Répondez aux quelques questions pour la discussion \n",
    "# Answer a few questions for discussion \n",
    "\n",
    "# Quel est l'impact de la disposition des données dans l'espace?\n",
    "# What is the impact of the layout of the data in the space?\n",
    "answer = \"Impact de la disposition \\\n",
    "          des données dans l'espace: \"\n",
    "results['Discussion'].append(answer)\n",
    "\n",
    "# Quel est le nombre de voisins $k$ optimal à utiliser?\n",
    "# What is the optimal number of $k$ neighbors to use?\n",
    "answer = \"Valeur de k optimale?: \\\n",
    "          \"\n",
    "results['Discussion'].append(answer)\n",
    "# ******\n",
    "\n",
    "# Affichage des erreurs\n",
    "df = pandas.DataFrame(results)\n",
    "display.display(df)"
   ]
  },
  {
   "cell_type": "markdown",
   "id": "cce191b1",
   "metadata": {
    "editable": false,
    "id": "595d959d",
    "lang": "fr",
    "tags": []
   },
   "source": [
    "### Entrez votre solution à Q3B dans la cellule ci-dessous"
   ]
  },
  {
   "cell_type": "markdown",
   "id": "a04ef37d",
   "metadata": {
    "editable": false,
    "id": "0946f63a",
    "lang": "en",
    "tags": []
   },
   "source": [
    "### Enter your answer to Q3B in the cell below"
   ]
  },
  {
   "cell_type": "code",
   "execution_count": null,
   "id": "4824ba9b",
   "metadata": {
    "deletable": false,
    "id": "b08a6819",
    "tags": [
     "user-answer-D2Q3B",
     "editable"
    ]
   },
   "outputs": [],
   "source": [
    "# Définition de la durée d'exécution maximales pour la question\n",
    "TMAX_Q3B = 260\n",
    "\n",
    "# Dictionnaire pour enregistrer les paramètres évalués\n",
    "results = collections.defaultdict(list)\n",
    "results['Questions'] = [\"Quel est l\\'impact de la disposition des données dans l'espace?\",\n",
    "                        \"Quel est le K optimal?\",\n",
    "                       ]\n",
    "results['Discussion'] = []\n",
    "\n",
    "_times.append(time.time())\n",
    "\n",
    "# *** TODO Q3B ***\n",
    "# Testez un classifeur K plus proches voisins sur le jeu de donnée\n",
    "# L'évaluation doit être faite en utilisant une approche leave-one-out\n",
    "# Testez avec k = {1, 3, 5, 7, 11, 13, 15, 25, 35, 45} et avec les valeurs\n",
    "# \"uniform\" et \"distance\" comme valeur de l'argument \"weights\".\n",
    "# N'oubliez pas de normaliser le jeu de données en utilisant minmax_scale!\n",
    "# Test a k-nearest neighbours classifier on the dataset\n",
    "# The evaluation should be done using a leave-one-out approach\n",
    "# Test with k = {1, 3, 5, 7, 11, 13, 15, 25, 35, 45} and with the values\n",
    "# \"uniform\" and \"distance\" as the value of the \"weights\" argument.\n",
    "# Don't forget to normalize the dataset using minmax_scale!\n",
    "breast_cancer_data = load_breast_cancer()\n",
    "X, y = breast_cancer_data.data, breast_cancer_data.target\n",
    "X = minmax_scale(X)\n",
    "\n",
    "my_weights = ['uniform', 'distance']\n",
    "my_neighbors = [1, 3, 5, 7, 11, 13, 15, 25, 35, 45]\n",
    "\n",
    "d_scores = {}\n",
    "for w in my_weights:\n",
    "    w_scores = []\n",
    "    for n in my_neighbors:\n",
    "        clf = KNeighborsClassifier(n_neighbors=n, weights=w)\n",
    "        loo = LeaveOneOut()\n",
    "        scores = numpy.zeros(loo.get_n_splits(X))\n",
    "        count = 0\n",
    "        for train_index, test_index in loo.split(X):\n",
    "            X_train, X_test = X[train_index], X[test_index]\n",
    "            y_train, y_test = y[train_index], y[test_index]\n",
    "            clf.fit(X_train, y_train)\n",
    "            scores[count] = 1 - clf.score(X_test, y_test)\n",
    "            count = count + 1 \n",
    "        w_scores.append(numpy.mean(scores))\n",
    "    d_scores[w] = w_scores\n",
    "\n",
    "\n",
    "# Stockez les performances obtenues (précision moyenne pour chaque valeur de k)\n",
    "# dans deux listes, scoresUniformWeights pour weights=uniform et \n",
    "# scoresDistanceWeights pour weights=distance\n",
    "# Le premier élément de chacune de ces listes devrait contenir la précision\n",
    "# pour k=1, le second la précision pour k=3, et ainsi de suite.\n",
    "# Store the obtained performances (average precision for each value of k)\n",
    "# in two lists, scoresUniformWeights for weights=uniform and \n",
    "# scoresDistanceWeights for weights=distance\n",
    "# The first element of each of these lists should contain the precision\n",
    "# for k=1, the second the precision for k=3, and so on.\n",
    "scoresUniformWeights = d_scores[\"uniform\"]\n",
    "scoresDistanceWeights = d_scores[\"distance\"]\n",
    "# ******\n",
    "\n",
    "_times.append(time.time())\n",
    "checkTime(TMAX_Q3B, \"Q3B\")\n",
    "\n",
    "# *** TODO Q3B ***\n",
    "# Produisez un graphique contenant deux courbes, l'une pour weights=uniform\n",
    "# et l'autre pour weights=distance. L'axe x de la figure doit être le nombre\n",
    "# de voisins et l'axe y la performance en leave-one-out\n",
    "# Produce a graph containing two curves, one for weights=uniform\n",
    "# and the other for weights=distance. The x axis of the figure should be the number\n",
    "# of neighbours and the y-axis the leave-one-out performance\n",
    "\n",
    "fig = pyplot.figure()\n",
    "ax = fig.add_subplot(111)\n",
    "\n",
    "ax.set_title('Comparaison between Distance and Uniform weights')  # À modifier / to be modified\n",
    "ax.plot(my_neighbors, scoresDistanceWeights, 'r--', label=\"Distance weights\") # À compléter / to be completed\n",
    "ax.plot(my_neighbors, scoresUniformWeights, 'b--', label=\"Uniform weights\")  # À compléter / to be completed\n",
    "ax.set_xticks(my_neighbors)\n",
    "ax.grid(axis='x')\n",
    "ax.set_xlabel(\"Values of K\")\n",
    "ax.set_ylabel(\"Accuracy (%)\")\n",
    "ax.legend(loc='upper left')\n",
    "\n",
    "# ******\n",
    "\n",
    "# *** TODO Q3B ***\n",
    "\n",
    "# Répondez aux quelques questions pour la discussion \n",
    "# Answer a few questions for discussion \n",
    "\n",
    "# Quel est l'impact de la disposition des données dans l'espace?\n",
    "# What is the impact of the layout of the data in the space?\n",
    "answer = \"La disposition des données dans l'espace impacte la valeur du minimum de l'erreur\"\n",
    "results['Discussion'].append(answer)\n",
    "\n",
    "# Quel est le nombre de voisins $k$ optimal à utiliser?\n",
    "# What is the optimal number of $k$ neighbors to use?\n",
    "answer = \"La valeur optimale de k est 15\"\n",
    "results['Discussion'].append(answer)\n",
    "# ******\n",
    "\n",
    "# Affichage des erreurs\n",
    "df = pandas.DataFrame(results)\n",
    "display.display(df)"
   ]
  }
 ],
 "metadata": {
  "PAX": {
   "userLang": "fr"
  },
  "celltoolbar": "",
  "jupytext": {
   "formats": "ipynb,md",
   "notebook_metadata_filter": "celltoolbar",
   "text_representation": {
    "extension": ".md",
    "format_name": "markdown",
    "format_version": "1.3",
    "jupytext_version": "1.11.4"
   }
  },
  "kernelspec": {
   "display_name": "Python 3 (PAX)",
   "language": "python",
   "name": "python3"
  },
  "language_info": {
   "codemirror_mode": {
    "name": "ipython",
    "version": 3
   },
   "file_extension": ".py",
   "mimetype": "text/x-python",
   "name": "python",
   "nbconvert_exporter": "python",
   "pygments_lexer": "ipython3",
   "version": "3.8.10"
  },
  "nbTranslate": {
   "displayLangs": [
    "*"
   ],
   "hotkey": "alt-t",
   "langInMainMenu": true,
   "sourceLang": "en",
   "targetLang": "fr",
   "useGoogleTranslate": true
  }
 },
 "nbformat": 4,
 "nbformat_minor": 5
}
